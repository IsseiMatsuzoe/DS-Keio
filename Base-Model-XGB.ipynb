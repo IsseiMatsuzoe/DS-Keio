{
 "cells": [
  {
   "cell_type": "markdown",
   "metadata": {},
   "source": [
    "# XGBを用いたベースモデルの構築\n",
    "## データの読み込み"
   ]
  },
  {
   "cell_type": "code",
   "execution_count": 23,
   "metadata": {},
   "outputs": [],
   "source": [
    "import pandas as pd\n",
    "import numpy as np\n",
    "import matplotlib.pyplot as plt\n",
    "import seaborn as sns\n",
    "%matplotlib inline"
   ]
  },
  {
   "cell_type": "code",
   "execution_count": 24,
   "metadata": {},
   "outputs": [],
   "source": [
    "train_df = pd.read_csv(r'C:\\Users\\Issei\\Desktop\\Class Documents\\KEIO 2024 Fall\\Data Science\\Datasets\\Output\\train_tokyo.csv')\n",
    "test_df = pd.read_csv(r'C:\\Users\\Issei\\Desktop\\Class Documents\\KEIO 2024 Fall\\Data Science\\Datasets\\Output\\test_tokyo.csv')\n",
    "answer_df = pd.read_csv(r'C:\\Users\\Issei\\Desktop\\Class Documents\\KEIO 2024 Fall\\Data Science\\Datasets\\Output\\answer_tokyo.csv')"
   ]
  },
  {
   "cell_type": "code",
   "execution_count": 25,
   "metadata": {},
   "outputs": [
    {
     "data": {
      "text/html": [
       "<div>\n",
       "<style scoped>\n",
       "    .dataframe tbody tr th:only-of-type {\n",
       "        vertical-align: middle;\n",
       "    }\n",
       "\n",
       "    .dataframe tbody tr th {\n",
       "        vertical-align: top;\n",
       "    }\n",
       "\n",
       "    .dataframe thead th {\n",
       "        text-align: right;\n",
       "    }\n",
       "</style>\n",
       "<table border=\"1\" class=\"dataframe\">\n",
       "  <thead>\n",
       "    <tr style=\"text-align: right;\">\n",
       "      <th></th>\n",
       "      <th>物件ID</th>\n",
       "      <th>自社物フラグ</th>\n",
       "      <th>物件種別</th>\n",
       "      <th>空き物件数</th>\n",
       "      <th>都道府県</th>\n",
       "      <th>市区郡町村</th>\n",
       "      <th>路線1</th>\n",
       "      <th>駅1</th>\n",
       "      <th>徒歩距離1</th>\n",
       "      <th>路線2</th>\n",
       "      <th>...</th>\n",
       "      <th>駐車場料金</th>\n",
       "      <th>駐車場区分</th>\n",
       "      <th>駐車場距離</th>\n",
       "      <th>現況</th>\n",
       "      <th>引渡/入居時期</th>\n",
       "      <th>コンビニ距離</th>\n",
       "      <th>スーパー距離</th>\n",
       "      <th>取引態様</th>\n",
       "      <th>バス停有り</th>\n",
       "      <th>その他費用</th>\n",
       "    </tr>\n",
       "  </thead>\n",
       "  <tbody>\n",
       "    <tr>\n",
       "      <th>0</th>\n",
       "      <td>da11daf7e9f021eef09588fcdbdcec67</td>\n",
       "      <td>0</td>\n",
       "      <td>3101</td>\n",
       "      <td>1.0</td>\n",
       "      <td>13</td>\n",
       "      <td>224</td>\n",
       "      <td>863.0</td>\n",
       "      <td>4949.0</td>\n",
       "      <td>160.0</td>\n",
       "      <td>1000.0</td>\n",
       "      <td>...</td>\n",
       "      <td>0.0</td>\n",
       "      <td>4.0</td>\n",
       "      <td>-1</td>\n",
       "      <td>-1.0</td>\n",
       "      <td>1</td>\n",
       "      <td>2</td>\n",
       "      <td>4</td>\n",
       "      <td>6</td>\n",
       "      <td>True</td>\n",
       "      <td>0.0</td>\n",
       "    </tr>\n",
       "    <tr>\n",
       "      <th>1</th>\n",
       "      <td>675e2a8d86de283bea808e4daf27a70f</td>\n",
       "      <td>0</td>\n",
       "      <td>3101</td>\n",
       "      <td>1.0</td>\n",
       "      <td>13</td>\n",
       "      <td>201</td>\n",
       "      <td>105.0</td>\n",
       "      <td>730.0</td>\n",
       "      <td>1200.0</td>\n",
       "      <td>105.0</td>\n",
       "      <td>...</td>\n",
       "      <td>7850.0</td>\n",
       "      <td>1.0</td>\n",
       "      <td>1</td>\n",
       "      <td>-1.0</td>\n",
       "      <td>3</td>\n",
       "      <td>4</td>\n",
       "      <td>4</td>\n",
       "      <td>6</td>\n",
       "      <td>False</td>\n",
       "      <td>28080.0</td>\n",
       "    </tr>\n",
       "    <tr>\n",
       "      <th>2</th>\n",
       "      <td>51c206b43e7726cd747dca15a8bd6ec2</td>\n",
       "      <td>0</td>\n",
       "      <td>3101</td>\n",
       "      <td>1.0</td>\n",
       "      <td>13</td>\n",
       "      <td>105</td>\n",
       "      <td>583.0</td>\n",
       "      <td>6381.0</td>\n",
       "      <td>320.0</td>\n",
       "      <td>577.0</td>\n",
       "      <td>...</td>\n",
       "      <td>0.0</td>\n",
       "      <td>-1.0</td>\n",
       "      <td>-1</td>\n",
       "      <td>2.0</td>\n",
       "      <td>1</td>\n",
       "      <td>-1</td>\n",
       "      <td>-1</td>\n",
       "      <td>6</td>\n",
       "      <td>False</td>\n",
       "      <td>0.0</td>\n",
       "    </tr>\n",
       "    <tr>\n",
       "      <th>3</th>\n",
       "      <td>dcdf3fd8ca3d0740b5a01aa339b417d1</td>\n",
       "      <td>0</td>\n",
       "      <td>3101</td>\n",
       "      <td>1.0</td>\n",
       "      <td>13</td>\n",
       "      <td>115</td>\n",
       "      <td>194.0</td>\n",
       "      <td>762.0</td>\n",
       "      <td>560.0</td>\n",
       "      <td>871.0</td>\n",
       "      <td>...</td>\n",
       "      <td>29000.0</td>\n",
       "      <td>3.0</td>\n",
       "      <td>2</td>\n",
       "      <td>2.0</td>\n",
       "      <td>1</td>\n",
       "      <td>2</td>\n",
       "      <td>3</td>\n",
       "      <td>6</td>\n",
       "      <td>False</td>\n",
       "      <td>0.0</td>\n",
       "    </tr>\n",
       "    <tr>\n",
       "      <th>4</th>\n",
       "      <td>12bf596823eafcfddb5a015761bde50b</td>\n",
       "      <td>0</td>\n",
       "      <td>3101</td>\n",
       "      <td>1.0</td>\n",
       "      <td>13</td>\n",
       "      <td>113</td>\n",
       "      <td>863.0</td>\n",
       "      <td>4925.0</td>\n",
       "      <td>400.0</td>\n",
       "      <td>863.0</td>\n",
       "      <td>...</td>\n",
       "      <td>0.0</td>\n",
       "      <td>4.0</td>\n",
       "      <td>-1</td>\n",
       "      <td>2.0</td>\n",
       "      <td>1</td>\n",
       "      <td>-1</td>\n",
       "      <td>-1</td>\n",
       "      <td>6</td>\n",
       "      <td>False</td>\n",
       "      <td>41200.0</td>\n",
       "    </tr>\n",
       "  </tbody>\n",
       "</table>\n",
       "<p>5 rows × 36 columns</p>\n",
       "</div>"
      ],
      "text/plain": [
       "                               物件ID  自社物フラグ  物件種別  空き物件数  都道府県  市区郡町村    路線1  \\\n",
       "0  da11daf7e9f021eef09588fcdbdcec67       0  3101    1.0    13    224  863.0   \n",
       "1  675e2a8d86de283bea808e4daf27a70f       0  3101    1.0    13    201  105.0   \n",
       "2  51c206b43e7726cd747dca15a8bd6ec2       0  3101    1.0    13    105  583.0   \n",
       "3  dcdf3fd8ca3d0740b5a01aa339b417d1       0  3101    1.0    13    115  194.0   \n",
       "4  12bf596823eafcfddb5a015761bde50b       0  3101    1.0    13    113  863.0   \n",
       "\n",
       "       駅1   徒歩距離1     路線2  ...    駐車場料金  駐車場区分  駐車場距離   現況  引渡/入居時期  コンビニ距離  \\\n",
       "0  4949.0   160.0  1000.0  ...      0.0    4.0     -1 -1.0        1       2   \n",
       "1   730.0  1200.0   105.0  ...   7850.0    1.0      1 -1.0        3       4   \n",
       "2  6381.0   320.0   577.0  ...      0.0   -1.0     -1  2.0        1      -1   \n",
       "3   762.0   560.0   871.0  ...  29000.0    3.0      2  2.0        1       2   \n",
       "4  4925.0   400.0   863.0  ...      0.0    4.0     -1  2.0        1      -1   \n",
       "\n",
       "   スーパー距離  取引態様  バス停有り    その他費用  \n",
       "0       4     6   True      0.0  \n",
       "1       4     6  False  28080.0  \n",
       "2      -1     6  False      0.0  \n",
       "3       3     6  False      0.0  \n",
       "4      -1     6  False  41200.0  \n",
       "\n",
       "[5 rows x 36 columns]"
      ]
     },
     "execution_count": 25,
     "metadata": {},
     "output_type": "execute_result"
    }
   ],
   "source": [
    "train_df.head()"
   ]
  },
  {
   "cell_type": "code",
   "execution_count": 26,
   "metadata": {},
   "outputs": [
    {
     "name": "stdout",
     "output_type": "stream",
     "text": [
      "<class 'pandas.core.frame.DataFrame'>\n",
      "RangeIndex: 104000 entries, 0 to 103999\n",
      "Data columns (total 36 columns):\n",
      " #   Column     Non-Null Count   Dtype  \n",
      "---  ------     --------------   -----  \n",
      " 0   物件ID       104000 non-null  object \n",
      " 1   自社物フラグ     104000 non-null  int64  \n",
      " 2   物件種別       104000 non-null  int64  \n",
      " 3   空き物件数      104000 non-null  float64\n",
      " 4   都道府県       104000 non-null  int64  \n",
      " 5   市区郡町村      104000 non-null  int64  \n",
      " 6   路線1        104000 non-null  float64\n",
      " 7   駅1         104000 non-null  float64\n",
      " 8   徒歩距離1      104000 non-null  float64\n",
      " 9   路線2        104000 non-null  float64\n",
      " 10  駅2         104000 non-null  float64\n",
      " 11  徒歩距離2      104000 non-null  float64\n",
      " 12  建物構造       104000 non-null  float64\n",
      " 13  建物面積/専有面積  104000 non-null  float64\n",
      " 14  建物階数(地上)   104000 non-null  float64\n",
      " 15  築年月        104000 non-null  float64\n",
      " 16  新築・未入居フラグ  104000 non-null  int64  \n",
      " 17  部屋階数       104000 non-null  float64\n",
      " 18  向き         104000 non-null  float64\n",
      " 19  間取部屋数      104000 non-null  float64\n",
      " 20  間取部屋種類     104000 non-null  float64\n",
      " 21  賃料/価格      104000 non-null  int64  \n",
      " 22  共益費/管理費    104000 non-null  int64  \n",
      " 23  礼金         104000 non-null  int64  \n",
      " 24  敷金         104000 non-null  int64  \n",
      " 25  契約期間(年)    104000 non-null  float64\n",
      " 26  駐車場料金      104000 non-null  float64\n",
      " 27  駐車場区分      104000 non-null  float64\n",
      " 28  駐車場距離      104000 non-null  int64  \n",
      " 29  現況         104000 non-null  float64\n",
      " 30  引渡/入居時期    104000 non-null  int64  \n",
      " 31  コンビニ距離     104000 non-null  int64  \n",
      " 32  スーパー距離     104000 non-null  int64  \n",
      " 33  取引態様       104000 non-null  int64  \n",
      " 34  バス停有り      104000 non-null  bool   \n",
      " 35  その他費用      104000 non-null  float64\n",
      "dtypes: bool(1), float64(20), int64(14), object(1)\n",
      "memory usage: 27.9+ MB\n"
     ]
    }
   ],
   "source": [
    "train_df.info()"
   ]
  },
  {
   "cell_type": "code",
   "execution_count": 27,
   "metadata": {},
   "outputs": [
    {
     "data": {
      "text/html": [
       "<div>\n",
       "<style scoped>\n",
       "    .dataframe tbody tr th:only-of-type {\n",
       "        vertical-align: middle;\n",
       "    }\n",
       "\n",
       "    .dataframe tbody tr th {\n",
       "        vertical-align: top;\n",
       "    }\n",
       "\n",
       "    .dataframe thead th {\n",
       "        text-align: right;\n",
       "    }\n",
       "</style>\n",
       "<table border=\"1\" class=\"dataframe\">\n",
       "  <thead>\n",
       "    <tr style=\"text-align: right;\">\n",
       "      <th></th>\n",
       "      <th>賃料/価格</th>\n",
       "    </tr>\n",
       "  </thead>\n",
       "  <tbody>\n",
       "    <tr>\n",
       "      <th>0</th>\n",
       "      <td>43000</td>\n",
       "    </tr>\n",
       "    <tr>\n",
       "      <th>1</th>\n",
       "      <td>70000</td>\n",
       "    </tr>\n",
       "    <tr>\n",
       "      <th>2</th>\n",
       "      <td>78000</td>\n",
       "    </tr>\n",
       "    <tr>\n",
       "      <th>3</th>\n",
       "      <td>69600</td>\n",
       "    </tr>\n",
       "    <tr>\n",
       "      <th>4</th>\n",
       "      <td>67000</td>\n",
       "    </tr>\n",
       "  </tbody>\n",
       "</table>\n",
       "</div>"
      ],
      "text/plain": [
       "   賃料/価格\n",
       "0  43000\n",
       "1  70000\n",
       "2  78000\n",
       "3  69600\n",
       "4  67000"
      ]
     },
     "execution_count": 27,
     "metadata": {},
     "output_type": "execute_result"
    }
   ],
   "source": [
    "answer_df.head()"
   ]
  },
  {
   "cell_type": "code",
   "execution_count": 28,
   "metadata": {},
   "outputs": [],
   "source": [
    "train_df.drop('物件ID', axis=1, inplace=True)\n",
    "test_df.drop('物件ID', axis=1, inplace=True)\n",
    "train_df.drop('敷金', axis=1, inplace=True)\n",
    "train_df.drop('礼金', axis=1, inplace=True)\n",
    "test_df.drop('敷金', axis=1, inplace=True)\n",
    "test_df.drop('礼金', axis=1, inplace=True)"
   ]
  },
  {
   "cell_type": "markdown",
   "metadata": {},
   "source": [
    "# Train Model"
   ]
  },
  {
   "cell_type": "code",
   "execution_count": 29,
   "metadata": {},
   "outputs": [
    {
     "name": "stdout",
     "output_type": "stream",
     "text": [
      "59853.7176063889\n"
     ]
    }
   ],
   "source": [
    "# import xgb and other libraries\n",
    "import xgboost as xgb\n",
    "from sklearn.model_selection import train_test_split\n",
    "from sklearn.metrics import mean_squared_error\n",
    "\n",
    "X = train_df.drop('賃料/価格', axis=1)\n",
    "y = train_df['賃料/価格']\n",
    "\n",
    "X_train, X_test, y_train, y_test = train_test_split(X, y, test_size=0.2, random_state=123)\n",
    "\n",
    "xg_reg = xgb.XGBRegressor(objective ='reg:squarederror', colsample_bytree = 0.3, learning_rate = 0.1)\n",
    "xg_reg.fit(X_train, y_train)\n",
    "preds = xg_reg.predict(X_test)\n",
    "score = np.sqrt(mean_squared_error(y_test, preds))\n",
    "print(score)\n"
   ]
  },
  {
   "cell_type": "markdown",
   "metadata": {},
   "source": [
    "{'col_sample_bytree': 0.3,\n",
    " 'lambda': 0.7,\n",
    " 'learning_rate': 0.01,\n",
    " 'max_depth': 12,\n",
    " 'min_child_weight': 1,\n",
    " 'n_estimators': 600,\n",
    " 'seed': 123}"
   ]
  },
  {
   "cell_type": "code",
   "execution_count": 30,
   "metadata": {},
   "outputs": [
    {
     "name": "stderr",
     "output_type": "stream",
     "text": [
      "C:\\Users\\Issei\\AppData\\Local\\Packages\\PythonSoftwareFoundation.Python.3.11_qbz5n2kfra8p0\\LocalCache\\local-packages\\Python311\\site-packages\\xgboost\\core.py:158: UserWarning: [17:08:38] WARNING: C:\\buildkite-agent\\builds\\buildkite-windows-cpu-autoscaling-group-i-0015a694724fa8361-1\\xgboost\\xgboost-ci-windows\\src\\learner.cc:740: \n",
      "Parameters: { \"params\" } are not used.\n",
      "\n",
      "  warnings.warn(smsg, UserWarning)\n"
     ]
    },
    {
     "name": "stdout",
     "output_type": "stream",
     "text": [
      "60611.804539974066\n"
     ]
    }
   ],
   "source": [
    "params = {'col_sample_bytree': 0.3,\n",
    " 'lambda': 0.7,\n",
    " 'learning_rate': 0.01,\n",
    " 'max_depth': 12,\n",
    " 'min_child_weight': 1,\n",
    " 'n_estimators': 600,\n",
    " 'seed': 123\n",
    " }\n",
    "xg_reg_grid = xgb.XGBRegressor(objective ='reg:squarederror', params=params)\n",
    "xg_reg_grid.fit(X_train, y_train)\n",
    "preds = xg_reg_grid.predict(X_test)\n",
    "score = np.sqrt(mean_squared_error(y_test, preds))\n",
    "print(score)"
   ]
  },
  {
   "cell_type": "code",
   "execution_count": 31,
   "metadata": {},
   "outputs": [
    {
     "name": "stderr",
     "output_type": "stream",
     "text": [
      "C:\\Users\\Issei\\AppData\\Local\\Packages\\PythonSoftwareFoundation.Python.3.11_qbz5n2kfra8p0\\LocalCache\\local-packages\\Python311\\site-packages\\tqdm\\auto.py:21: TqdmWarning: IProgress not found. Please update jupyter and ipywidgets. See https://ipywidgets.readthedocs.io/en/stable/user_install.html\n",
      "  from .autonotebook import tqdm as notebook_tqdm\n",
      "[I 2025-01-08 17:08:38,639] A new study created in memory with name: no-name-ed067add-c380-478b-9b6e-efb12d54d735\n",
      "[I 2025-01-08 17:08:42,011] Trial 1 finished with value: 76222.32936928926 and parameters: {'colsample_bytree': 0.5438335524500193, 'reg_lambda': 0.3273254869827409, 'learning_rate': 0.3915463963651035, 'max_depth': 6, 'min_child_weight': 4, 'n_estimators': 251, 'reg_alpha': 0.45599871387747415}. Best is trial 1 with value: 76222.32936928926.\n",
      "[I 2025-01-08 17:08:42,321] Trial 0 finished with value: 68639.9176831697 and parameters: {'colsample_bytree': 0.9849411564329708, 'reg_lambda': 0.669549708403439, 'learning_rate': 0.22287008413544046, 'max_depth': 5, 'min_child_weight': 7, 'n_estimators': 339, 'reg_alpha': 0.29503351000237515}. Best is trial 0 with value: 68639.9176831697.\n",
      "[I 2025-01-08 17:08:44,331] Trial 2 finished with value: 78856.50832911975 and parameters: {'colsample_bytree': 0.43234679291700184, 'reg_lambda': 0.6436017748310615, 'learning_rate': 0.5386036490687407, 'max_depth': 6, 'min_child_weight': 8, 'n_estimators': 522, 'reg_alpha': 0.5818212219580634}. Best is trial 0 with value: 68639.9176831697.\n",
      "[I 2025-01-08 17:08:44,900] Trial 3 finished with value: 67756.12649535837 and parameters: {'colsample_bytree': 0.1342006455417391, 'reg_lambda': 0.9892811396752533, 'learning_rate': 0.17094070084125065, 'max_depth': 8, 'min_child_weight': 10, 'n_estimators': 489, 'reg_alpha': 0.21189651904008636}. Best is trial 3 with value: 67756.12649535837.\n",
      "[I 2025-01-08 17:08:45,273] Trial 4 finished with value: 60367.55115298111 and parameters: {'colsample_bytree': 0.3967696978050841, 'reg_lambda': 0.15335990527568477, 'learning_rate': 0.132735417215581, 'max_depth': 8, 'min_child_weight': 5, 'n_estimators': 535, 'reg_alpha': 0.7105848381884641}. Best is trial 4 with value: 60367.55115298111.\n"
     ]
    },
    {
     "name": "stdout",
     "output_type": "stream",
     "text": [
      "{'colsample_bytree': 0.3967696978050841, 'reg_lambda': 0.15335990527568477, 'learning_rate': 0.132735417215581, 'max_depth': 8, 'min_child_weight': 5, 'n_estimators': 535, 'reg_alpha': 0.7105848381884641} 60367.55115298111\n"
     ]
    }
   ],
   "source": [
    "# hyperparameter tuning with optuna\n",
    "import optuna\n",
    "from xgboost import XGBRegressor\n",
    "\n",
    "def objective(trial):\n",
    "    params = {\n",
    "        'colsample_bytree': trial.suggest_float('colsample_bytree', 0.1, 1),\n",
    "        'reg_lambda': trial.suggest_float('reg_lambda', 0.1, 1),\n",
    "        'learning_rate': trial.suggest_float('learning_rate', 0.01, 0.9),\n",
    "        'max_depth': trial.suggest_int('max_depth', 3, 12),\n",
    "        'min_child_weight': trial.suggest_int('min_child_weight', 1, 10),\n",
    "        'n_estimators': trial.suggest_int('n_estimators', 100, 600),\n",
    "        'reg_alpha': trial.suggest_float('reg_alpha', 0.1, 1),\n",
    "        'random_state': 123\n",
    "    }\n",
    "    \n",
    "    model = XGBRegressor(**params)\n",
    "    model.fit(X_train, y_train, eval_set=[(X_test, y_test)], verbose=False)\n",
    "    preds = model.predict(X_test)\n",
    "    score = np.sqrt(mean_squared_error(y_test, preds))\n",
    "    return score\n",
    "\n",
    "study = optuna.create_study(direction='minimize')\n",
    "study.optimize(objective, n_trials=5, n_jobs=10)\n",
    "\n",
    "print(study.best_params, study.best_value)"
   ]
  },
  {
   "cell_type": "code",
   "execution_count": 32,
   "metadata": {},
   "outputs": [
    {
     "name": "stderr",
     "output_type": "stream",
     "text": [
      "[I 2025-01-08 17:08:45,289] A new study created in memory with name: no-name-0d3e7ee7-5ac5-4c5b-b524-e93d1e25c274\n",
      "[I 2025-01-08 17:08:50,988] Trial 0 finished with value: 55200.15726691053 and parameters: {'colsample_bytree': 0.42700306963533297, 'lambda': 0.6571704307387779, 'learning_rate': 0.019850664102391596, 'alpha': 0.5364387364880336, 'gamma': 0.6768988634472995, 'subsample': 0.9901853355703061, 'colsample_bylevel': 0.4741490421411839, 'num_boost_round': 383}. Best is trial 0 with value: 55200.15726691053.\n"
     ]
    },
    {
     "name": "stdout",
     "output_type": "stream",
     "text": [
      "{'colsample_bytree': 0.42700306963533297, 'lambda': 0.6571704307387779, 'learning_rate': 0.019850664102391596, 'alpha': 0.5364387364880336, 'gamma': 0.6768988634472995, 'subsample': 0.9901853355703061, 'colsample_bylevel': 0.4741490421411839, 'num_boost_round': 383} 55200.15726691053\n"
     ]
    }
   ],
   "source": [
    "import xgboost as xgb\n",
    "import numpy as np\n",
    "from sklearn.metrics import mean_squared_error\n",
    "import optuna\n",
    "\n",
    "def objective(trial):\n",
    "    params = {\n",
    "        'objective': 'reg:squarederror',\n",
    "        'colsample_bytree': trial.suggest_float('colsample_bytree', 0.41, 0.43),\n",
    "        'lambda': trial.suggest_float('lambda', 0.65, 0.69),\n",
    "        'learning_rate': trial.suggest_float('learning_rate', 0.018, 0.02),\n",
    "        'max_depth': 13,\n",
    "        'min_child_weight': 1,\n",
    "        'alpha': trial.suggest_float('alpha', 0.5, 0.55),\n",
    "        'gamma': trial.suggest_float('gamma', 0.65, 0.68),\n",
    "        'subsample': trial.suggest_float('subsample', 0.99, 1),\n",
    "        'colsample_bylevel': trial.suggest_float('colsample_bylevel', 0.45, 0.48),\n",
    "        'seed': 123\n",
    "    }\n",
    "    \n",
    "    # Convert the data to DMatrix\n",
    "    dtrain = xgb.DMatrix(X_train, label=y_train)\n",
    "    dtest = xgb.DMatrix(X_test, label=y_test)\n",
    "    \n",
    "    # Train the model with `num_boost_round`\n",
    "    bst = xgb.train(\n",
    "        params=params,\n",
    "        dtrain=dtrain,\n",
    "        num_boost_round=trial.suggest_int('num_boost_round', 380, 390),\n",
    "        evals=[(dtest, 'validation')],\n",
    "        early_stopping_rounds=5,\n",
    "        verbose_eval=False\n",
    "    )\n",
    "    \n",
    "    # Predict and calculate RMSE\n",
    "    preds = bst.predict(dtest)\n",
    "    score = np.sqrt(mean_squared_error(y_test, preds))\n",
    "    return score\n",
    "\n",
    "# Create and optimize the study\n",
    "study = optuna.create_study(direction='minimize')\n",
    "study.optimize(objective, n_trials=1, n_jobs=-1)\n",
    "\n",
    "print(study.best_params, study.best_value)\n"
   ]
  },
  {
   "cell_type": "markdown",
   "metadata": {},
   "source": [
    "{'colsample_bytree': 0.7990941136600122, 'lambda': 0.6058853201731084, 'learning_rate': 0.011750169483301667, 'max_depth': 9, 'min_child_weight': 1, 'alpha': 0.40586215082837906, 'num_boost_round': 285} 53364.69906499748\n",
    "\n",
    "{'colsample_bytree': 0.42034609055475514, 'lambda': 0.6762895065509983, 'learning_rate': 0.018867542811951306, 'max_depth': 13, 'min_child_weight': 1, 'alpha': 0.5336472588050329, 'gamma': 0.6510749282340125, 'subsample': 0.9995715079391045, 'colsample_bylevel': 0.46391297205852455, 'num_boost_round': 383} #best_params\n",
    "\n",
    "{'colsample_bytree': 0.4282410945768199, 'lambda': 0.6629589490890622, 'learning_rate': 0.01843808599641744, 'alpha': 0.50593521723238, 'gamma': 0.6677873692997006, 'subsample': 0.9997920084796162, 'colsample_bylevel': 0.45032264404222816, 'num_boost_round': 387} 51948.884150592974"
   ]
  },
  {
   "cell_type": "code",
   "execution_count": 33,
   "metadata": {},
   "outputs": [],
   "source": [
    "best_params_1 = {'colsample_bytree': 0.42034609055475514, 'lambda': 0.6762895065509983, 'learning_rate': 0.018867542811951306, 'max_depth': 13, 'min_child_weight': 1, 'alpha': 0.5336472588050329, 'gamma': 0.6510749282340125, 'subsample': 0.9995715079391045, 'colsample_bylevel': 0.46391297205852455, 'num_boost_round': 383}"
   ]
  },
  {
   "cell_type": "code",
   "execution_count": 34,
   "metadata": {},
   "outputs": [
    {
     "name": "stdout",
     "output_type": "stream",
     "text": [
      "RMSE:  4235.145379468177\n",
      "{'colsample_bytree': 0.42034609055475514, 'lambda': 0.6762895065509983, 'learning_rate': 0.018867542811951306, 'max_depth': 13, 'min_child_weight': 1, 'alpha': 0.5336472588050329, 'gamma': 0.6510749282340125, 'subsample': 0.9995715079391045, 'colsample_bylevel': 0.46391297205852455}\n"
     ]
    }
   ],
   "source": [
    "# Calculate the actual score (best_params_1)\n",
    "X_leaderboard = test_df\n",
    "y_leaderboard = answer_df['賃料/価格']\n",
    "\n",
    "best_params = study.best_params\n",
    "bst_num_boost_round = best_params_1.pop('num_boost_round')\n",
    "dleaderboard = xgb.DMatrix(X_leaderboard, label=y_leaderboard)\n",
    "bst = xgb.train(params=best_params_1, dtrain=dleaderboard, num_boost_round=bst_num_boost_round) #243\n",
    "preds = bst.predict(dleaderboard)\n",
    "score = np.sqrt(mean_squared_error(y_leaderboard, preds))\n",
    "print('RMSE: ', score)\n",
    "print(best_params_1)"
   ]
  },
  {
   "cell_type": "code",
   "execution_count": 35,
   "metadata": {},
   "outputs": [
    {
     "name": "stdout",
     "output_type": "stream",
     "text": [
      "RMSE:  18923.063780733493\n",
      "{'colsample_bytree': 0.42700306963533297, 'lambda': 0.6571704307387779, 'learning_rate': 0.019850664102391596, 'alpha': 0.5364387364880336, 'gamma': 0.6768988634472995, 'subsample': 0.9901853355703061, 'colsample_bylevel': 0.4741490421411839}\n"
     ]
    }
   ],
   "source": [
    "best_params = study.best_params\n",
    "bst_num_boost_round = best_params.pop('num_boost_round')\n",
    "dleaderboard = xgb.DMatrix(X_leaderboard, label=y_leaderboard)\n",
    "bst = xgb.train(params=best_params, dtrain=dleaderboard, num_boost_round=bst_num_boost_round)\n",
    "preds = bst.predict(dleaderboard)\n",
    "score = np.sqrt(mean_squared_error(y_leaderboard, preds))\n",
    "print('RMSE: ', score)\n",
    "print(best_params)"
   ]
  },
  {
   "cell_type": "code",
   "execution_count": 36,
   "metadata": {},
   "outputs": [
    {
     "data": {
      "text/plain": [
       "<Axes: >"
      ]
     },
     "execution_count": 36,
     "metadata": {},
     "output_type": "execute_result"
    },
    {
     "data": {
      "image/png": "[encoded data removed]",
      "text/plain": [
       "<Figure size 640x480 with 1 Axes>"
      ]
     },
     "metadata": {},
     "output_type": "display_data"
    }
   ],
   "source": [
    "# calculate average of target variable\n",
    "answer_df['賃料/価格'].hist()"
   ]
  },
  {
   "cell_type": "code",
   "execution_count": 37,
   "metadata": {},
   "outputs": [
    {
     "data": {
      "text/plain": [
       "<Axes: >"
      ]
     },
     "execution_count": 37,
     "metadata": {},
     "output_type": "execute_result"
    },
    {
     "data": {
      "image/png": "[encoded data removed]",
      "text/plain": [
       "<Figure size 640x480 with 1 Axes>"
      ]
     },
     "metadata": {},
     "output_type": "display_data"
    }
   ],
   "source": [
    "train_df['賃料/価格'].hist()"
   ]
  },
  {
   "cell_type": "code",
   "execution_count": null,
   "metadata": {},
   "outputs": [],
   "source": []
  }
 ],
 "metadata": {
  "kernelspec": {
   "display_name": "Python 3",
   "language": "python",
   "name": "python3"
  },
  "language_info": {
   "codemirror_mode": {
    "name": "ipython",
    "version": 3
   },
   "file_extension": ".py",
   "mimetype": "text/x-python",
   "name": "python",
   "nbconvert_exporter": "python",
   "pygments_lexer": "ipython3",
   "version": "3.11.9"
  }
 },
 "nbformat": 4,
 "nbformat_minor": 2
}
