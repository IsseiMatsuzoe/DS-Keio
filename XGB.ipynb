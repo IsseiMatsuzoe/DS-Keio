{
 "cells": [
  {
   "cell_type": "markdown",
   "metadata": {},
   "source": [
    "# XGB with Engineered Data"
   ]
  },
  {
   "cell_type": "code",
   "execution_count": 2,
   "metadata": {},
   "outputs": [],
   "source": [
    "import pandas as pd\n",
    "import numpy as np\n",
    "import matplotlib.pyplot as plt\n",
    "import seaborn as sns\n",
    "%matplotlib inline"
   ]
  },
  {
   "cell_type": "code",
   "execution_count": 3,
   "metadata": {},
   "outputs": [],
   "source": [
    "train_df = pd.read_csv(r'C:\\Users\\Issei\\Desktop\\Class Documents\\KEIO 2024 Fall\\Data Science\\Datasets\\out\\train_tokyo.csv', index_col=0)\n",
    "test_df = pd.read_csv(r\"C:\\Users\\Issei\\Desktop\\Class Documents\\KEIO 2024 Fall\\Data Science\\Datasets\\out\\test_tokyo.csv\", index_col=0)\n",
    "answer_df = pd.read_csv(r\"C:\\Users\\Issei\\Desktop\\Class Documents\\KEIO 2024 Fall\\Data Science\\Datasets\\out\\answer_tokyo.csv\")"
   ]
  },
  {
   "cell_type": "code",
   "execution_count": 4,
   "metadata": {},
   "outputs": [
    {
     "data": {
      "text/html": [
       "<div>\n",
       "<style scoped>\n",
       "    .dataframe tbody tr th:only-of-type {\n",
       "        vertical-align: middle;\n",
       "    }\n",
       "\n",
       "    .dataframe tbody tr th {\n",
       "        vertical-align: top;\n",
       "    }\n",
       "\n",
       "    .dataframe thead th {\n",
       "        text-align: right;\n",
       "    }\n",
       "</style>\n",
       "<table border=\"1\" class=\"dataframe\">\n",
       "  <thead>\n",
       "    <tr style=\"text-align: right;\">\n",
       "      <th></th>\n",
       "      <th>物件ID</th>\n",
       "      <th>自社物フラグ</th>\n",
       "      <th>物件種別</th>\n",
       "      <th>空き物件数</th>\n",
       "      <th>都道府県</th>\n",
       "      <th>市区郡町村</th>\n",
       "      <th>路線1</th>\n",
       "      <th>駅1</th>\n",
       "      <th>徒歩距離1</th>\n",
       "      <th>路線2</th>\n",
       "      <th>...</th>\n",
       "      <th>駐車場距離</th>\n",
       "      <th>現況</th>\n",
       "      <th>引渡/入居時期</th>\n",
       "      <th>コンビニ距離</th>\n",
       "      <th>スーパー距離</th>\n",
       "      <th>取引態様</th>\n",
       "      <th>バス停有り</th>\n",
       "      <th>その他費用</th>\n",
       "      <th>行政区域コード</th>\n",
       "      <th>平均地価</th>\n",
       "    </tr>\n",
       "  </thead>\n",
       "  <tbody>\n",
       "    <tr>\n",
       "      <th>0</th>\n",
       "      <td>da11daf7e9f021eef09588fcdbdcec67</td>\n",
       "      <td>0</td>\n",
       "      <td>3101</td>\n",
       "      <td>1.0</td>\n",
       "      <td>13</td>\n",
       "      <td>224</td>\n",
       "      <td>863.0</td>\n",
       "      <td>4949</td>\n",
       "      <td>160.0</td>\n",
       "      <td>1000.0</td>\n",
       "      <td>...</td>\n",
       "      <td>-1</td>\n",
       "      <td>-1.0</td>\n",
       "      <td>1</td>\n",
       "      <td>2</td>\n",
       "      <td>4</td>\n",
       "      <td>6</td>\n",
       "      <td>True</td>\n",
       "      <td>0.0</td>\n",
       "      <td>13224</td>\n",
       "      <td>238928.571429</td>\n",
       "    </tr>\n",
       "    <tr>\n",
       "      <th>1</th>\n",
       "      <td>675e2a8d86de283bea808e4daf27a70f</td>\n",
       "      <td>0</td>\n",
       "      <td>3101</td>\n",
       "      <td>1.0</td>\n",
       "      <td>13</td>\n",
       "      <td>201</td>\n",
       "      <td>105.0</td>\n",
       "      <td>730</td>\n",
       "      <td>1200.0</td>\n",
       "      <td>105.0</td>\n",
       "      <td>...</td>\n",
       "      <td>1</td>\n",
       "      <td>-1.0</td>\n",
       "      <td>3</td>\n",
       "      <td>4</td>\n",
       "      <td>4</td>\n",
       "      <td>6</td>\n",
       "      <td>False</td>\n",
       "      <td>28080.0</td>\n",
       "      <td>13201</td>\n",
       "      <td>135000.000000</td>\n",
       "    </tr>\n",
       "    <tr>\n",
       "      <th>2</th>\n",
       "      <td>51c206b43e7726cd747dca15a8bd6ec2</td>\n",
       "      <td>0</td>\n",
       "      <td>3101</td>\n",
       "      <td>1.0</td>\n",
       "      <td>13</td>\n",
       "      <td>105</td>\n",
       "      <td>583.0</td>\n",
       "      <td>6381</td>\n",
       "      <td>320.0</td>\n",
       "      <td>577.0</td>\n",
       "      <td>...</td>\n",
       "      <td>-1</td>\n",
       "      <td>2.0</td>\n",
       "      <td>1</td>\n",
       "      <td>-1</td>\n",
       "      <td>-1</td>\n",
       "      <td>6</td>\n",
       "      <td>False</td>\n",
       "      <td>0.0</td>\n",
       "      <td>13105</td>\n",
       "      <td>654200.000000</td>\n",
       "    </tr>\n",
       "    <tr>\n",
       "      <th>3</th>\n",
       "      <td>dcdf3fd8ca3d0740b5a01aa339b417d1</td>\n",
       "      <td>0</td>\n",
       "      <td>3101</td>\n",
       "      <td>1.0</td>\n",
       "      <td>13</td>\n",
       "      <td>115</td>\n",
       "      <td>194.0</td>\n",
       "      <td>762</td>\n",
       "      <td>560.0</td>\n",
       "      <td>871.0</td>\n",
       "      <td>...</td>\n",
       "      <td>2</td>\n",
       "      <td>2.0</td>\n",
       "      <td>1</td>\n",
       "      <td>2</td>\n",
       "      <td>3</td>\n",
       "      <td>6</td>\n",
       "      <td>False</td>\n",
       "      <td>0.0</td>\n",
       "      <td>13115</td>\n",
       "      <td>534000.000000</td>\n",
       "    </tr>\n",
       "    <tr>\n",
       "      <th>4</th>\n",
       "      <td>12bf596823eafcfddb5a015761bde50b</td>\n",
       "      <td>0</td>\n",
       "      <td>3101</td>\n",
       "      <td>1.0</td>\n",
       "      <td>13</td>\n",
       "      <td>113</td>\n",
       "      <td>863.0</td>\n",
       "      <td>4925</td>\n",
       "      <td>400.0</td>\n",
       "      <td>863.0</td>\n",
       "      <td>...</td>\n",
       "      <td>-1</td>\n",
       "      <td>2.0</td>\n",
       "      <td>1</td>\n",
       "      <td>-1</td>\n",
       "      <td>-1</td>\n",
       "      <td>6</td>\n",
       "      <td>False</td>\n",
       "      <td>41200.0</td>\n",
       "      <td>13113</td>\n",
       "      <td>991666.666667</td>\n",
       "    </tr>\n",
       "  </tbody>\n",
       "</table>\n",
       "<p>5 rows × 38 columns</p>\n",
       "</div>"
      ],
      "text/plain": [
       "                               物件ID  自社物フラグ  物件種別  空き物件数  都道府県  市区郡町村    路線1  \\\n",
       "0  da11daf7e9f021eef09588fcdbdcec67       0  3101    1.0    13    224  863.0   \n",
       "1  675e2a8d86de283bea808e4daf27a70f       0  3101    1.0    13    201  105.0   \n",
       "2  51c206b43e7726cd747dca15a8bd6ec2       0  3101    1.0    13    105  583.0   \n",
       "3  dcdf3fd8ca3d0740b5a01aa339b417d1       0  3101    1.0    13    115  194.0   \n",
       "4  12bf596823eafcfddb5a015761bde50b       0  3101    1.0    13    113  863.0   \n",
       "\n",
       "     駅1   徒歩距離1     路線2  ...  駐車場距離   現況  引渡/入居時期  コンビニ距離  スーパー距離  取引態様  \\\n",
       "0  4949   160.0  1000.0  ...     -1 -1.0        1       2       4     6   \n",
       "1   730  1200.0   105.0  ...      1 -1.0        3       4       4     6   \n",
       "2  6381   320.0   577.0  ...     -1  2.0        1      -1      -1     6   \n",
       "3   762   560.0   871.0  ...      2  2.0        1       2       3     6   \n",
       "4  4925   400.0   863.0  ...     -1  2.0        1      -1      -1     6   \n",
       "\n",
       "   バス停有り    その他費用  行政区域コード           平均地価  \n",
       "0   True      0.0    13224  238928.571429  \n",
       "1  False  28080.0    13201  135000.000000  \n",
       "2  False      0.0    13105  654200.000000  \n",
       "3  False      0.0    13115  534000.000000  \n",
       "4  False  41200.0    13113  991666.666667  \n",
       "\n",
       "[5 rows x 38 columns]"
      ]
     },
     "execution_count": 4,
     "metadata": {},
     "output_type": "execute_result"
    }
   ],
   "source": [
    "train_df.head()"
   ]
  },
  {
   "cell_type": "code",
   "execution_count": 5,
   "metadata": {},
   "outputs": [
    {
     "data": {
      "text/html": [
       "<div>\n",
       "<style scoped>\n",
       "    .dataframe tbody tr th:only-of-type {\n",
       "        vertical-align: middle;\n",
       "    }\n",
       "\n",
       "    .dataframe tbody tr th {\n",
       "        vertical-align: top;\n",
       "    }\n",
       "\n",
       "    .dataframe thead th {\n",
       "        text-align: right;\n",
       "    }\n",
       "</style>\n",
       "<table border=\"1\" class=\"dataframe\">\n",
       "  <thead>\n",
       "    <tr style=\"text-align: right;\">\n",
       "      <th></th>\n",
       "      <th>賃料/価格</th>\n",
       "    </tr>\n",
       "  </thead>\n",
       "  <tbody>\n",
       "    <tr>\n",
       "      <th>0</th>\n",
       "      <td>43000</td>\n",
       "    </tr>\n",
       "    <tr>\n",
       "      <th>1</th>\n",
       "      <td>70000</td>\n",
       "    </tr>\n",
       "    <tr>\n",
       "      <th>2</th>\n",
       "      <td>78000</td>\n",
       "    </tr>\n",
       "    <tr>\n",
       "      <th>3</th>\n",
       "      <td>69600</td>\n",
       "    </tr>\n",
       "    <tr>\n",
       "      <th>4</th>\n",
       "      <td>67000</td>\n",
       "    </tr>\n",
       "  </tbody>\n",
       "</table>\n",
       "</div>"
      ],
      "text/plain": [
       "   賃料/価格\n",
       "0  43000\n",
       "1  70000\n",
       "2  78000\n",
       "3  69600\n",
       "4  67000"
      ]
     },
     "execution_count": 5,
     "metadata": {},
     "output_type": "execute_result"
    }
   ],
   "source": [
    "answer_df.head()"
   ]
  },
  {
   "cell_type": "code",
   "execution_count": 6,
   "metadata": {},
   "outputs": [],
   "source": [
    "train_df.drop('物件ID', axis=1, inplace=True)\n",
    "train_df.drop('敷金', axis=1, inplace=True)\n",
    "train_df.drop('礼金', axis=1, inplace=True)\n",
    "test_df.drop('物件ID', axis=1, inplace=True)\n",
    "test_df.drop('敷金', axis=1, inplace=True)\n",
    "test_df.drop('礼金', axis=1, inplace=True)"
   ]
  },
  {
   "cell_type": "code",
   "execution_count": 7,
   "metadata": {},
   "outputs": [
    {
     "name": "stdout",
     "output_type": "stream",
     "text": [
      "65887.07796478042\n"
     ]
    }
   ],
   "source": [
    "# import xgb and other libraries\n",
    "import xgboost as xgb\n",
    "from sklearn.model_selection import train_test_split\n",
    "from sklearn.metrics import mean_squared_error\n",
    "\n",
    "X = train_df.drop('賃料/価格', axis=1)\n",
    "y = train_df['賃料/価格']\n",
    "\n",
    "X_train, X_test, y_train, y_test = train_test_split(X, y, test_size=0.2, random_state=123)\n",
    "\n",
    "xg_reg = xgb.XGBRegressor(objective ='reg:squarederror', colsample_bytree = 0.3, learning_rate = 0.1)\n",
    "xg_reg.fit(X_train, y_train)\n",
    "preds = xg_reg.predict(X_test)\n",
    "score = np.sqrt(mean_squared_error(y_test, preds))\n",
    "print(score)\n"
   ]
  },
  {
   "cell_type": "code",
   "execution_count": 8,
   "metadata": {},
   "outputs": [],
   "source": [
    "def huber_loss(y_true, y_pred, delta=1.0):\n",
    "    error = y_true - y_pred\n",
    "    is_small_error = np.abs(error) <= delta\n",
    "    squared_loss = np.square(error) / 2\n",
    "    linear_loss = delta * (np.abs(error) - delta / 2)\n",
    "    return np.where(is_small_error, squared_loss, linear_loss).mean()"
   ]
  },
  {
   "cell_type": "code",
   "execution_count": 9,
   "metadata": {},
   "outputs": [
    {
     "name": "stderr",
     "output_type": "stream",
     "text": [
      "C:\\Users\\Issei\\AppData\\Local\\Packages\\PythonSoftwareFoundation.Python.3.11_qbz5n2kfra8p0\\LocalCache\\local-packages\\Python311\\site-packages\\tqdm\\auto.py:21: TqdmWarning: IProgress not found. Please update jupyter and ipywidgets. See https://ipywidgets.readthedocs.io/en/stable/user_install.html\n",
      "  from .autonotebook import tqdm as notebook_tqdm\n",
      "[I 2025-01-15 14:03:31,582] A new study created in memory with name: no-name-5c23b890-2fa7-42ad-98d3-0d4117916833\n",
      "[I 2025-01-15 14:03:35,265] Trial 0 finished with value: 57647.302640338734 and parameters: {'colsample_bytree': 0.40732842796940116, 'lambda': 0.6072554643216784, 'learning_rate': 0.018024963590392202, 'alpha': 0.5117189932181953, 'gamma': 0.6545934782964303, 'subsample': 0.9878249737775052, 'colsample_bylevel': 0.4738578758749901, 'num_boost_round': 399}. Best is trial 0 with value: 57647.302640338734.\n"
     ]
    },
    {
     "name": "stdout",
     "output_type": "stream",
     "text": [
      "{'colsample_bytree': 0.40732842796940116, 'lambda': 0.6072554643216784, 'learning_rate': 0.018024963590392202, 'alpha': 0.5117189932181953, 'gamma': 0.6545934782964303, 'subsample': 0.9878249737775052, 'colsample_bylevel': 0.4738578758749901, 'num_boost_round': 399} 57647.302640338734\n"
     ]
    }
   ],
   "source": [
    "import xgboost as xgb\n",
    "import numpy as np\n",
    "from sklearn.metrics import mean_squared_error\n",
    "import optuna\n",
    "\n",
    "def objective(trial):\n",
    "    params = {\n",
    "        'objective': 'reg:squarederror',\n",
    "        'colsample_bytree': trial.suggest_float('colsample_bytree', 0.38, 0.43),\n",
    "        'lambda': trial.suggest_float('lambda', 0.60, 0.69),\n",
    "        'learning_rate': trial.suggest_float('learning_rate', 0.018, 0.02),\n",
    "        'max_depth': 13,\n",
    "        'min_child_weight': 1,\n",
    "        'alpha': trial.suggest_float('alpha', 0.5, 0.55),\n",
    "        'gamma': trial.suggest_float('gamma', 0.65, 0.70),\n",
    "        'subsample': trial.suggest_float('subsample', 0.97, 1),\n",
    "        'colsample_bylevel': trial.suggest_float('colsample_bylevel', 0.45, 0.48),\n",
    "        'seed': 123\n",
    "    }\n",
    "    \n",
    "    # Convert the data to DMatrix\n",
    "    dtrain = xgb.DMatrix(X_train, label=y_train)\n",
    "    dtest = xgb.DMatrix(X_test, label=y_test)\n",
    "    \n",
    "    # Train the model with `num_boost_round`\n",
    "    bst = xgb.train(\n",
    "        params=params,\n",
    "        dtrain=dtrain,\n",
    "        num_boost_round=trial.suggest_int('num_boost_round', 370, 400),\n",
    "        evals=[(dtest, 'validation')],\n",
    "        early_stopping_rounds=5,\n",
    "        verbose_eval=False\n",
    "    )\n",
    "    \n",
    "    # Predict and calculate RMSE\n",
    "    preds = bst.predict(dtest)\n",
    "    score = np.sqrt(mean_squared_error(y_test, preds))\n",
    "    return score\n",
    "\n",
    "# Create and optimize the study\n",
    "study = optuna.create_study(direction='minimize')\n",
    "study.optimize(objective, n_trials=1, n_jobs=10)\n",
    "\n",
    "print(study.best_params, study.best_value)\n"
   ]
  },
  {
   "cell_type": "markdown",
   "metadata": {},
   "source": [
    "53864.04938372861 and parameters: {'colsample_bytree': 0.42796899128577376, 'lambda': 0.6468520021140538, 'learning_rate': 0.018001323231869395, 'alpha': 0.5470546828854458, 'gamma': 0.6867378623374889, 'subsample': 0.9866791994360189, 'colsample_bylevel': 0.4773390892942839, 'num_boost_round': 380}. Best is trial 502 with value: 53864.04938372861."
   ]
  },
  {
   "cell_type": "code",
   "execution_count": 10,
   "metadata": {},
   "outputs": [],
   "source": [
    "# 以前チューニングしたパラメータ\n",
    "best_params_1 = {'colsample_bytree': 0.42034609055475514, 'lambda': 0.6762895065509983, 'learning_rate': 0.018867542811951306, 'max_depth': 13, 'min_child_weight': 1, 'alpha': 0.5336472588050329, 'gamma': 0.6510749282340125, 'subsample': 0.9995715079391045, 'colsample_bylevel': 0.46391297205852455, 'num_boost_round': 383}"
   ]
  },
  {
   "cell_type": "code",
   "execution_count": null,
   "metadata": {},
   "outputs": [],
   "source": []
  },
  {
   "cell_type": "code",
   "execution_count": 11,
   "metadata": {},
   "outputs": [
    {
     "name": "stdout",
     "output_type": "stream",
     "text": [
      "RMSE:  3962.2457608787013\n",
      "{'colsample_bytree': 0.42034609055475514, 'lambda': 0.6762895065509983, 'learning_rate': 0.018867542811951306, 'max_depth': 13, 'min_child_weight': 1, 'alpha': 0.5336472588050329, 'gamma': 0.6510749282340125, 'subsample': 0.9995715079391045, 'colsample_bylevel': 0.46391297205852455}\n"
     ]
    }
   ],
   "source": [
    "# Calculate the actual score (best_params_1)\n",
    "X_leaderboard = test_df\n",
    "y_leaderboard = answer_df['賃料/価格']\n",
    "\n",
    "best_params = study.best_params\n",
    "bst_num_boost_round = best_params_1.pop('num_boost_round')\n",
    "dleaderboard = xgb.DMatrix(X_leaderboard, label=y_leaderboard)\n",
    "bst = xgb.train(params=best_params_1, dtrain=dleaderboard, num_boost_round=bst_num_boost_round) #243\n",
    "preds = bst.predict(dleaderboard)\n",
    "score = np.sqrt(mean_squared_error(y_leaderboard, preds))\n",
    "print('RMSE: ', score)\n",
    "print(best_params_1)"
   ]
  },
  {
   "cell_type": "code",
   "execution_count": 13,
   "metadata": {},
   "outputs": [
    {
     "name": "stdout",
     "output_type": "stream",
     "text": [
      "Huber Loss:  2684.366567847912\n"
     ]
    }
   ],
   "source": [
    "# caluculate the huber loss\n",
    "print('Huber Loss: ', huber_loss(y_leaderboard, preds))"
   ]
  },
  {
   "cell_type": "code",
   "execution_count": null,
   "metadata": {},
   "outputs": [
    {
     "name": "stderr",
     "output_type": "stream",
     "text": [
      "[I 2025-01-15 13:57:42,004] A new study created in memory with name: no-name-cf5ae1a0-e7b2-4b4d-8537-a030e953fc1c\n"
     ]
    }
   ],
   "source": [
    "\n",
    "from sklearn.ensemble import RandomForestRegressor\n",
    "from sklearn.model_selection import cross_val_score\n",
    "\n",
    "def rf_objective(trial):\n",
    "    params = {\n",
    "        'n_estimators': trial.suggest_int('n_estimators', 100, 700),\n",
    "        'max_depth': trial.suggest_int('max_depth', 5, 50),\n",
    "        'min_samples_split': trial.suggest_int('min_samples_split', 2, 10),\n",
    "        'min_samples_leaf': trial.suggest_int('min_samples_leaf', 1, 10),\n",
    "        'max_features': trial.suggest_categorical('max_features', ['sqrt', 'log2']),\n",
    "        'bootstrap': trial.suggest_categorical('bootstrap', [True, False])\n",
    "    }\n",
    "    \n",
    "    rf = RandomForestRegressor(**params, random_state=123)\n",
    "    score = cross_val_score(rf, X_train, y_train, cv=3, scoring='neg_mean_squared_error').mean()\n",
    "    return np.sqrt(-score)\n",
    "\n",
    "# Create and optimize the study\n",
    "rf_study = optuna.create_study(direction='minimize')\n",
    "rf_study.optimize(rf_objective, n_trials=1, n_jobs=-1)\n",
    "\n",
    "print(rf_study.best_params, rf_study.best_value)"
   ]
  },
  {
   "cell_type": "code",
   "execution_count": 11,
   "metadata": {},
   "outputs": [
    {
     "data": {
      "image/png": "[encoded data removed]",
      "text/plain": [
       "<Figure size 1000x600 with 1 Axes>"
      ]
     },
     "metadata": {},
     "output_type": "display_data"
    }
   ],
   "source": [
    "import japanize_matplotlib\n",
    "# Fit the RandomForestRegressor with the best parameters\n",
    "best_rf_params = rf_study.best_params\n",
    "rf = RandomForestRegressor(**best_rf_params, random_state=123)\n",
    "rf.fit(X_train, y_train)\n",
    "\n",
    "# Get feature importances\n",
    "importances = rf.feature_importances_\n",
    "indices = np.argsort(importances)[::-1]\n",
    "\n",
    "# Plot the feature importances\n",
    "plt.figure(figsize=(10, 6))\n",
    "plt.title(\"Feature Importances\")\n",
    "plt.bar(range(X_train.shape[1]), importances[indices], align=\"center\")\n",
    "plt.xticks(range(X_train.shape[1]), X_train.columns[indices], rotation=90)\n",
    "plt.xlim([-1, X_train.shape[1]])\n",
    "plt.show()"
   ]
  }
 ],
 "metadata": {
  "kernelspec": {
   "display_name": "Python 3",
   "language": "python",
   "name": "python3"
  },
  "language_info": {
   "codemirror_mode": {
    "name": "ipython",
    "version": 3
   },
   "file_extension": ".py",
   "mimetype": "text/x-python",
   "name": "python",
   "nbconvert_exporter": "python",
   "pygments_lexer": "ipython3",
   "version": "3.11.9"
  }
 },
 "nbformat": 4,
 "nbformat_minor": 2
}
